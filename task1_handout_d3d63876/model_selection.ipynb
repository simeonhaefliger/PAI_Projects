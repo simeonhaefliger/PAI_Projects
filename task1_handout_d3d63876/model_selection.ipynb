{
 "cells": [
  {
   "cell_type": "markdown",
   "metadata": {},
   "source": [
    "# Model Selection"
   ]
  },
  {
   "cell_type": "markdown",
   "metadata": {},
   "source": [
    "### Import libreries"
   ]
  },
  {
   "cell_type": "code",
   "execution_count": 1,
   "metadata": {},
   "outputs": [],
   "source": [
    "from sklearn.gaussian_process.kernels import *\n",
    "from sklearn.gaussian_process import GaussianProcessRegressor\n",
    "from scipy.interpolate import griddata\n",
    "from scipy.stats import norm\n",
    "import numpy as np\n",
    "import pandas as pd"
   ]
  },
  {
   "cell_type": "markdown",
   "metadata": {},
   "source": [
    "### Read data"
   ]
  },
  {
   "cell_type": "code",
   "execution_count": 2,
   "metadata": {},
   "outputs": [],
   "source": [
    "X = pd.read_csv(\"./train_x.csv\").to_numpy()\n",
    "y = pd.read_csv(\"./train_y.csv\").to_numpy()"
   ]
  },
  {
   "cell_type": "markdown",
   "metadata": {},
   "source": [
    "### Interpolate data to reduced plane"
   ]
  },
  {
   "cell_type": "code",
   "execution_count": 3,
   "metadata": {},
   "outputs": [],
   "source": [
    "grid_x, grid_y = np.mgrid[0:0.9988:50j, 0:0.9988:50j]\n",
    "grid_z0 = griddata(X, y, (grid_x, grid_y), method='nearest')\n",
    "interpolated_data_y = pd.DataFrame(grid_z0.ravel(), columns = ['pm25'])\n",
    "coor = np.array(list(zip(grid_x.ravel(), grid_y.ravel())))"
   ]
  },
  {
   "cell_type": "markdown",
   "metadata": {},
   "source": [
    "### Hyperparameter Tuning"
   ]
  },
  {
   "cell_type": "code",
   "execution_count": 4,
   "metadata": {},
   "outputs": [],
   "source": [
    "kernels = [RBF(),\n",
    "           Matern(nu=0.5),\n",
    "           Matern(nu=1.5),\n",
    "           Matern(nu=2.5),\n",
    "           RationalQuadratic(),\n",
    "           ExpSineSquared(),\n",
    "           DotProduct() + WhiteKernel()]"
   ]
  },
  {
   "cell_type": "code",
   "execution_count": 12,
   "metadata": {},
   "outputs": [
    {
     "name": "stdout",
     "output_type": "stream",
     "text": [
      "RBF(length_scale=0.0224)  :  -230199.7803302184\n"
     ]
    },
    {
     "name": "stderr",
     "output_type": "stream",
     "text": [
      "/Users/santiago/opt/anaconda3/lib/python3.8/site-packages/sklearn/gaussian_process/kernels.py:1623: RuntimeWarning: invalid value encountered in true_divide\n",
      "  K_gradient = K[..., np.newaxis] * D \\\n"
     ]
    },
    {
     "name": "stdout",
     "output_type": "stream",
     "text": [
      "Matern(length_scale=0.0402, nu=0.5)  :  -147630.3189565221\n",
      "Matern(length_scale=0.0297, nu=1.5)  :  -174273.92580377776\n",
      "Matern(length_scale=0.0269, nu=2.5)  :  -188743.0522545688\n",
      "RationalQuadratic(alpha=0.528, length_scale=0.0119)  :  -120489.31124962137\n",
      "ExpSineSquared(length_scale=0.00612, periodicity=23)  :  -230197.91099507353\n",
      "DotProduct(sigma_0=18.2) + WhiteKernel(noise_level=223)  :  -10346.768229266689\n"
     ]
    }
   ],
   "source": [
    "for kernel in kernels:\n",
    "    gpc = GaussianProcessRegressor(kernel=kernel, \n",
    "                                   random_state=0, \n",
    "                                   n_restarts_optimizer=100,\n",
    "                                   alpha = 0.1).fit(coor, interpolated_data_y.to_numpy())\n",
    "    print(gpc.kernel_, ' : ', gpc.log_marginal_likelihood())"
   ]
  }
 ],
 "metadata": {
  "kernelspec": {
   "display_name": "Python 3",
   "language": "python",
   "name": "python3"
  },
  "language_info": {
   "codemirror_mode": {
    "name": "ipython",
    "version": 3
   },
   "file_extension": ".py",
   "mimetype": "text/x-python",
   "name": "python",
   "nbconvert_exporter": "python",
   "pygments_lexer": "ipython3",
   "version": "3.8.3"
  }
 },
 "nbformat": 4,
 "nbformat_minor": 4
}
